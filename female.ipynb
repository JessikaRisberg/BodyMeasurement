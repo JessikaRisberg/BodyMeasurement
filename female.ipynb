{
 "cells": [
  {
   "cell_type": "markdown",
   "source": [
    "## Read CSV"
   ],
   "metadata": {
    "collapsed": false
   }
  },
  {
   "cell_type": "code",
   "execution_count": 29,
   "metadata": {
    "collapsed": true
   },
   "outputs": [],
   "source": [
    "import pandas as pd\n",
    "\n",
    "female_df = pd.read_csv('female.csv')\n",
    "size_df = pd.read_csv('sizechart_women_tshrit.csv')\n",
    "f_tshirt_df = pd.read_csv('female_skimmed_tshirt.csv')"
   ]
  },
  {
   "cell_type": "code",
   "execution_count": 6,
   "outputs": [
    {
     "data": {
      "text/plain": "   SubjectId  abdominalextensiondepthsitting  acromialheight  \\\n0      10037                             231            1282   \n1      10038                             194            1379   \n2      10042                             183            1369   \n3      10043                             261            1356   \n4      10051                             309            1303   \n\n   acromionradialelength  anklecircumference  axillaheight  \\\n0                    301                 204          1180   \n1                    320                 207          1292   \n2                    329                 233          1271   \n3                    306                 214          1250   \n4                    308                 214          1210   \n\n   balloffootcircumference  balloffootlength  biacromialbreadth  \\\n0                      222               177                373   \n1                      225               178                372   \n2                      237               196                397   \n3                      240               188                384   \n4                      217               182                378   \n\n   bicepscircumferenceflexed  ...                  Branch  PrimaryMOS  \\\n0                        315  ...          Combat Support         92Y   \n1                        272  ...  Combat Service Support         25U   \n2                        300  ...  Combat Service Support         35D   \n3                        364  ...  Combat Service Support         25U   \n4                        320  ...             Combat Arms         42A   \n\n   SubjectsBirthLocation  SubjectNumericRace           Ethnicity  DODRace  \\\n0                Germany                   2                 NaN        2   \n1             California                   3             Mexican        3   \n2                  Texas                   1                 NaN        1   \n3   District of Columbia                   8  Caribbean Islander        2   \n4                  Texas                   1                 NaN        1   \n\n   Age  Heightin  Weightlbs  WritingPreference  \n0   26        61        142         Right hand  \n1   21        64        120         Right hand  \n2   23        68        147         Right hand  \n3   22        66        175         Right hand  \n4   45        63        195         Right hand  \n\n[5 rows x 108 columns]",
      "text/html": "<div>\n<style scoped>\n    .dataframe tbody tr th:only-of-type {\n        vertical-align: middle;\n    }\n\n    .dataframe tbody tr th {\n        vertical-align: top;\n    }\n\n    .dataframe thead th {\n        text-align: right;\n    }\n</style>\n<table border=\"1\" class=\"dataframe\">\n  <thead>\n    <tr style=\"text-align: right;\">\n      <th></th>\n      <th>SubjectId</th>\n      <th>abdominalextensiondepthsitting</th>\n      <th>acromialheight</th>\n      <th>acromionradialelength</th>\n      <th>anklecircumference</th>\n      <th>axillaheight</th>\n      <th>balloffootcircumference</th>\n      <th>balloffootlength</th>\n      <th>biacromialbreadth</th>\n      <th>bicepscircumferenceflexed</th>\n      <th>...</th>\n      <th>Branch</th>\n      <th>PrimaryMOS</th>\n      <th>SubjectsBirthLocation</th>\n      <th>SubjectNumericRace</th>\n      <th>Ethnicity</th>\n      <th>DODRace</th>\n      <th>Age</th>\n      <th>Heightin</th>\n      <th>Weightlbs</th>\n      <th>WritingPreference</th>\n    </tr>\n  </thead>\n  <tbody>\n    <tr>\n      <th>0</th>\n      <td>10037</td>\n      <td>231</td>\n      <td>1282</td>\n      <td>301</td>\n      <td>204</td>\n      <td>1180</td>\n      <td>222</td>\n      <td>177</td>\n      <td>373</td>\n      <td>315</td>\n      <td>...</td>\n      <td>Combat Support</td>\n      <td>92Y</td>\n      <td>Germany</td>\n      <td>2</td>\n      <td>NaN</td>\n      <td>2</td>\n      <td>26</td>\n      <td>61</td>\n      <td>142</td>\n      <td>Right hand</td>\n    </tr>\n    <tr>\n      <th>1</th>\n      <td>10038</td>\n      <td>194</td>\n      <td>1379</td>\n      <td>320</td>\n      <td>207</td>\n      <td>1292</td>\n      <td>225</td>\n      <td>178</td>\n      <td>372</td>\n      <td>272</td>\n      <td>...</td>\n      <td>Combat Service Support</td>\n      <td>25U</td>\n      <td>California</td>\n      <td>3</td>\n      <td>Mexican</td>\n      <td>3</td>\n      <td>21</td>\n      <td>64</td>\n      <td>120</td>\n      <td>Right hand</td>\n    </tr>\n    <tr>\n      <th>2</th>\n      <td>10042</td>\n      <td>183</td>\n      <td>1369</td>\n      <td>329</td>\n      <td>233</td>\n      <td>1271</td>\n      <td>237</td>\n      <td>196</td>\n      <td>397</td>\n      <td>300</td>\n      <td>...</td>\n      <td>Combat Service Support</td>\n      <td>35D</td>\n      <td>Texas</td>\n      <td>1</td>\n      <td>NaN</td>\n      <td>1</td>\n      <td>23</td>\n      <td>68</td>\n      <td>147</td>\n      <td>Right hand</td>\n    </tr>\n    <tr>\n      <th>3</th>\n      <td>10043</td>\n      <td>261</td>\n      <td>1356</td>\n      <td>306</td>\n      <td>214</td>\n      <td>1250</td>\n      <td>240</td>\n      <td>188</td>\n      <td>384</td>\n      <td>364</td>\n      <td>...</td>\n      <td>Combat Service Support</td>\n      <td>25U</td>\n      <td>District of Columbia</td>\n      <td>8</td>\n      <td>Caribbean Islander</td>\n      <td>2</td>\n      <td>22</td>\n      <td>66</td>\n      <td>175</td>\n      <td>Right hand</td>\n    </tr>\n    <tr>\n      <th>4</th>\n      <td>10051</td>\n      <td>309</td>\n      <td>1303</td>\n      <td>308</td>\n      <td>214</td>\n      <td>1210</td>\n      <td>217</td>\n      <td>182</td>\n      <td>378</td>\n      <td>320</td>\n      <td>...</td>\n      <td>Combat Arms</td>\n      <td>42A</td>\n      <td>Texas</td>\n      <td>1</td>\n      <td>NaN</td>\n      <td>1</td>\n      <td>45</td>\n      <td>63</td>\n      <td>195</td>\n      <td>Right hand</td>\n    </tr>\n  </tbody>\n</table>\n<p>5 rows × 108 columns</p>\n</div>"
     },
     "execution_count": 6,
     "metadata": {},
     "output_type": "execute_result"
    }
   ],
   "source": [
    "female_df.head()"
   ],
   "metadata": {
    "collapsed": false,
    "pycharm": {
     "name": "#%%\n"
    }
   }
  },
  {
   "cell_type": "code",
   "execution_count": 20,
   "outputs": [
    {
     "name": "stderr",
     "output_type": "stream",
     "text": [
      "C:\\Users\\jessi\\AppData\\Local\\Temp\\ipykernel_7032\\2117098709.py:2: FutureWarning: The default dtype for empty Series will be 'object' instead of 'float64' in a future version. Specify a dtype explicitly to silence this warning.\n",
      "  size = pd.Series([])\n"
     ]
    }
   ],
   "source": [
    "# creating a blank size\n",
    "size = pd.Series([])"
   ],
   "metadata": {
    "collapsed": false,
    "pycharm": {
     "name": "#%%\n"
    }
   }
  },
  {
   "cell_type": "code",
   "execution_count": 19,
   "outputs": [
    {
     "data": {
      "text/plain": "array([['xxs', '70-75', '54-57'],\n       ['xs', '75-81', '58-66'],\n       ['s', '82-88', '87-72'],\n       ['m', '89-96', '72-80'],\n       ['l', '96-106', '81-93'],\n       ['xl', '106-115', '93-101'],\n       ['xxl', '116-122', '101-104']], dtype=object)"
     },
     "execution_count": 19,
     "metadata": {},
     "output_type": "execute_result"
    }
   ],
   "source": [
    "size_df.values"
   ],
   "metadata": {
    "collapsed": false,
    "pycharm": {
     "name": "#%%\n"
    }
   }
  },
  {
   "cell_type": "markdown",
   "source": [
    "## Sort out data"
   ],
   "metadata": {
    "collapsed": false
   }
  },
  {
   "cell_type": "code",
   "execution_count": 4,
   "outputs": [],
   "source": [
    "female_skimmed_tshirt = female_df[['SubjectId', 'chestcircumference', 'waistcircumference']]\n",
    "female_skimmed_tshirt.to_csv('female_skimmed_tshirt.csv')"
   ],
   "metadata": {
    "collapsed": false,
    "pycharm": {
     "name": "#%%\n"
    }
   }
  },
  {
   "cell_type": "code",
   "execution_count": null,
   "outputs": [],
   "source": [
    "feamale_heigt_weight = female_df[['stature', 'weightkg']]"
   ],
   "metadata": {
    "collapsed": false,
    "pycharm": {
     "name": "#%%\n"
    }
   }
  },
  {
   "cell_type": "code",
   "execution_count": 9,
   "outputs": [
    {
     "data": {
      "text/plain": "1600    18\n1674    18\n1623    18\n1620    18\n1611    18\n        ..\n1744     1\n1726     1\n1468     1\n1492     1\n1809     1\nName: stature, Length: 316, dtype: int64"
     },
     "execution_count": 9,
     "metadata": {},
     "output_type": "execute_result"
    }
   ],
   "source": [
    "pd.value_counts(female_df['stature'])"
   ],
   "metadata": {
    "collapsed": false,
    "pycharm": {
     "name": "#%%\n"
    }
   }
  },
  {
   "cell_type": "code",
   "execution_count": null,
   "outputs": [],
   "source": [],
   "metadata": {
    "collapsed": false,
    "pycharm": {
     "name": "#%%\n"
    }
   }
  },
  {
   "cell_type": "code",
   "execution_count": null,
   "outputs": [],
   "source": [],
   "metadata": {
    "collapsed": false,
    "pycharm": {
     "name": "#%%\n"
    }
   }
  },
  {
   "cell_type": "markdown",
   "source": [
    "## Plot out weight and height"
   ],
   "metadata": {
    "collapsed": false
   }
  },
  {
   "cell_type": "code",
   "execution_count": 3,
   "outputs": [
    {
     "data": {
      "text/plain": "<AxesSubplot:xlabel='stature', ylabel='weightkg'>"
     },
     "execution_count": 3,
     "metadata": {},
     "output_type": "execute_result"
    },
    {
     "data": {
      "text/plain": "<Figure size 432x288 with 1 Axes>",
      "image/png": "[encoded data removed]"
     },
     "metadata": {
      "needs_background": "light"
     },
     "output_type": "display_data"
    }
   ],
   "source": [
    "import seaborn as sns\n",
    "\n",
    "sns.scatterplot(data=female_df, x=\"stature\", y=\"weightkg\")"
   ],
   "metadata": {
    "collapsed": false,
    "pycharm": {
     "name": "#%%\n"
    }
   }
  },
  {
   "cell_type": "markdown",
   "source": [
    "## Change in dataframes"
   ],
   "metadata": {
    "collapsed": false
   }
  },
  {
   "cell_type": "code",
   "execution_count": 26,
   "outputs": [
    {
     "data": {
      "text/plain": "size     object\nbust     object\nwaist    object\ndtype: object"
     },
     "execution_count": 26,
     "metadata": {},
     "output_type": "execute_result"
    }
   ],
   "source": [
    "size_df.dtypes"
   ],
   "metadata": {
    "collapsed": false,
    "pycharm": {
     "name": "#%%\n"
    }
   }
  },
  {
   "cell_type": "code",
   "execution_count": 33,
   "outputs": [],
   "source": [
    "# add new empty size column to skimmed csv\n",
    "f_tshirt_df['size'] = ''"
   ],
   "metadata": {
    "collapsed": false,
    "pycharm": {
     "name": "#%%\n"
    }
   }
  },
  {
   "cell_type": "code",
   "execution_count": 41,
   "outputs": [
    {
     "data": {
      "text/plain": "0        \n1        \n2        \n3        \n4        \n       ..\n1981     \n1982     \n1983     \n1984     \n1985     \nName: size, Length: 1986, dtype: string"
     },
     "execution_count": 41,
     "metadata": {},
     "output_type": "execute_result"
    }
   ],
   "source": [
    "# change size to string type\n",
    "f_tshirt_df['size'].astype('string')"
   ],
   "metadata": {
    "collapsed": false,
    "pycharm": {
     "name": "#%%\n"
    }
   }
  },
  {
   "cell_type": "code",
   "execution_count": 43,
   "outputs": [
    {
     "data": {
      "text/plain": "Unnamed: 0           int64\nSubjectId            int64\nchestbreadth         int64\nbicristalbreadth     int64\nsize                object\ndtype: object"
     },
     "execution_count": 43,
     "metadata": {},
     "output_type": "execute_result"
    }
   ],
   "source": [
    "f_tshirt_df.dtypes"
   ],
   "metadata": {
    "collapsed": false,
    "pycharm": {
     "name": "#%%\n"
    }
   }
  },
  {
   "cell_type": "code",
   "execution_count": 34,
   "outputs": [
    {
     "data": {
      "text/plain": "   Unnamed: 0  SubjectId  chestbreadth  bicristalbreadth size\n0           0      10037           274               263     \n1           1      10038           261               250     \n2           2      10042           287               276     \n3           3      10043           269               276     \n4           4      10051           305               336     ",
      "text/html": "<div>\n<style scoped>\n    .dataframe tbody tr th:only-of-type {\n        vertical-align: middle;\n    }\n\n    .dataframe tbody tr th {\n        vertical-align: top;\n    }\n\n    .dataframe thead th {\n        text-align: right;\n    }\n</style>\n<table border=\"1\" class=\"dataframe\">\n  <thead>\n    <tr style=\"text-align: right;\">\n      <th></th>\n      <th>Unnamed: 0</th>\n      <th>SubjectId</th>\n      <th>chestbreadth</th>\n      <th>bicristalbreadth</th>\n      <th>size</th>\n    </tr>\n  </thead>\n  <tbody>\n    <tr>\n      <th>0</th>\n      <td>0</td>\n      <td>10037</td>\n      <td>274</td>\n      <td>263</td>\n      <td></td>\n    </tr>\n    <tr>\n      <th>1</th>\n      <td>1</td>\n      <td>10038</td>\n      <td>261</td>\n      <td>250</td>\n      <td></td>\n    </tr>\n    <tr>\n      <th>2</th>\n      <td>2</td>\n      <td>10042</td>\n      <td>287</td>\n      <td>276</td>\n      <td></td>\n    </tr>\n    <tr>\n      <th>3</th>\n      <td>3</td>\n      <td>10043</td>\n      <td>269</td>\n      <td>276</td>\n      <td></td>\n    </tr>\n    <tr>\n      <th>4</th>\n      <td>4</td>\n      <td>10051</td>\n      <td>305</td>\n      <td>336</td>\n      <td></td>\n    </tr>\n  </tbody>\n</table>\n</div>"
     },
     "execution_count": 34,
     "metadata": {},
     "output_type": "execute_result"
    }
   ],
   "source": [
    "f_tshirt_df.head()"
   ],
   "metadata": {
    "collapsed": false,
    "pycharm": {
     "name": "#%%\n"
    }
   }
  },
  {
   "cell_type": "code",
   "execution_count": 24,
   "outputs": [],
   "source": [],
   "metadata": {
    "collapsed": false,
    "pycharm": {
     "name": "#%%\n"
    }
   }
  },
  {
   "cell_type": "code",
   "execution_count": 44,
   "outputs": [
    {
     "ename": "ValueError",
     "evalue": "could not convert string to float: 'xxs'",
     "output_type": "error",
     "traceback": [
      "\u001B[1;31m---------------------------------------------------------------------------\u001B[0m",
      "\u001B[1;31mValueError\u001B[0m                                Traceback (most recent call last)",
      "Input \u001B[1;32mIn [44]\u001B[0m, in \u001B[0;36m<cell line: 7>\u001B[1;34m()\u001B[0m\n\u001B[0;32m      4\u001B[0m x \u001B[38;5;241m=\u001B[39m f_tshirt_df\n\u001B[0;32m      6\u001B[0m model \u001B[38;5;241m=\u001B[39m DecisionTreeClassifier()\n\u001B[1;32m----> 7\u001B[0m \u001B[43mmodel\u001B[49m\u001B[38;5;241;43m.\u001B[39;49m\u001B[43mfit\u001B[49m\u001B[43m(\u001B[49m\u001B[43my\u001B[49m\u001B[43m,\u001B[49m\u001B[43mx\u001B[49m\u001B[43m)\u001B[49m\n\u001B[0;32m      9\u001B[0m f_tshirt_df\n",
      "File \u001B[1;32mC:\\Skola\\Big_Data\\clothes_size_project\\venv\\lib\\site-packages\\sklearn\\tree\\_classes.py:937\u001B[0m, in \u001B[0;36mDecisionTreeClassifier.fit\u001B[1;34m(self, X, y, sample_weight, check_input, X_idx_sorted)\u001B[0m\n\u001B[0;32m    899\u001B[0m \u001B[38;5;28;01mdef\u001B[39;00m \u001B[38;5;21mfit\u001B[39m(\n\u001B[0;32m    900\u001B[0m     \u001B[38;5;28mself\u001B[39m, X, y, sample_weight\u001B[38;5;241m=\u001B[39m\u001B[38;5;28;01mNone\u001B[39;00m, check_input\u001B[38;5;241m=\u001B[39m\u001B[38;5;28;01mTrue\u001B[39;00m, X_idx_sorted\u001B[38;5;241m=\u001B[39m\u001B[38;5;124m\"\u001B[39m\u001B[38;5;124mdeprecated\u001B[39m\u001B[38;5;124m\"\u001B[39m\n\u001B[0;32m    901\u001B[0m ):\n\u001B[0;32m    902\u001B[0m     \u001B[38;5;124;03m\"\"\"Build a decision tree classifier from the training set (X, y).\u001B[39;00m\n\u001B[0;32m    903\u001B[0m \n\u001B[0;32m    904\u001B[0m \u001B[38;5;124;03m    Parameters\u001B[39;00m\n\u001B[1;32m   (...)\u001B[0m\n\u001B[0;32m    934\u001B[0m \u001B[38;5;124;03m        Fitted estimator.\u001B[39;00m\n\u001B[0;32m    935\u001B[0m \u001B[38;5;124;03m    \"\"\"\u001B[39;00m\n\u001B[1;32m--> 937\u001B[0m     \u001B[38;5;28;43msuper\u001B[39;49m\u001B[43m(\u001B[49m\u001B[43m)\u001B[49m\u001B[38;5;241;43m.\u001B[39;49m\u001B[43mfit\u001B[49m\u001B[43m(\u001B[49m\n\u001B[0;32m    938\u001B[0m \u001B[43m        \u001B[49m\u001B[43mX\u001B[49m\u001B[43m,\u001B[49m\n\u001B[0;32m    939\u001B[0m \u001B[43m        \u001B[49m\u001B[43my\u001B[49m\u001B[43m,\u001B[49m\n\u001B[0;32m    940\u001B[0m \u001B[43m        \u001B[49m\u001B[43msample_weight\u001B[49m\u001B[38;5;241;43m=\u001B[39;49m\u001B[43msample_weight\u001B[49m\u001B[43m,\u001B[49m\n\u001B[0;32m    941\u001B[0m \u001B[43m        \u001B[49m\u001B[43mcheck_input\u001B[49m\u001B[38;5;241;43m=\u001B[39;49m\u001B[43mcheck_input\u001B[49m\u001B[43m,\u001B[49m\n\u001B[0;32m    942\u001B[0m \u001B[43m        \u001B[49m\u001B[43mX_idx_sorted\u001B[49m\u001B[38;5;241;43m=\u001B[39;49m\u001B[43mX_idx_sorted\u001B[49m\u001B[43m,\u001B[49m\n\u001B[0;32m    943\u001B[0m \u001B[43m    \u001B[49m\u001B[43m)\u001B[49m\n\u001B[0;32m    944\u001B[0m     \u001B[38;5;28;01mreturn\u001B[39;00m \u001B[38;5;28mself\u001B[39m\n",
      "File \u001B[1;32mC:\\Skola\\Big_Data\\clothes_size_project\\venv\\lib\\site-packages\\sklearn\\tree\\_classes.py:165\u001B[0m, in \u001B[0;36mBaseDecisionTree.fit\u001B[1;34m(self, X, y, sample_weight, check_input, X_idx_sorted)\u001B[0m\n\u001B[0;32m    163\u001B[0m check_X_params \u001B[38;5;241m=\u001B[39m \u001B[38;5;28mdict\u001B[39m(dtype\u001B[38;5;241m=\u001B[39mDTYPE, accept_sparse\u001B[38;5;241m=\u001B[39m\u001B[38;5;124m\"\u001B[39m\u001B[38;5;124mcsc\u001B[39m\u001B[38;5;124m\"\u001B[39m)\n\u001B[0;32m    164\u001B[0m check_y_params \u001B[38;5;241m=\u001B[39m \u001B[38;5;28mdict\u001B[39m(ensure_2d\u001B[38;5;241m=\u001B[39m\u001B[38;5;28;01mFalse\u001B[39;00m, dtype\u001B[38;5;241m=\u001B[39m\u001B[38;5;28;01mNone\u001B[39;00m)\n\u001B[1;32m--> 165\u001B[0m X, y \u001B[38;5;241m=\u001B[39m \u001B[38;5;28;43mself\u001B[39;49m\u001B[38;5;241;43m.\u001B[39;49m\u001B[43m_validate_data\u001B[49m\u001B[43m(\u001B[49m\n\u001B[0;32m    166\u001B[0m \u001B[43m    \u001B[49m\u001B[43mX\u001B[49m\u001B[43m,\u001B[49m\u001B[43m \u001B[49m\u001B[43my\u001B[49m\u001B[43m,\u001B[49m\u001B[43m \u001B[49m\u001B[43mvalidate_separately\u001B[49m\u001B[38;5;241;43m=\u001B[39;49m\u001B[43m(\u001B[49m\u001B[43mcheck_X_params\u001B[49m\u001B[43m,\u001B[49m\u001B[43m \u001B[49m\u001B[43mcheck_y_params\u001B[49m\u001B[43m)\u001B[49m\n\u001B[0;32m    167\u001B[0m \u001B[43m\u001B[49m\u001B[43m)\u001B[49m\n\u001B[0;32m    168\u001B[0m \u001B[38;5;28;01mif\u001B[39;00m issparse(X):\n\u001B[0;32m    169\u001B[0m     X\u001B[38;5;241m.\u001B[39msort_indices()\n",
      "File \u001B[1;32mC:\\Skola\\Big_Data\\clothes_size_project\\venv\\lib\\site-packages\\sklearn\\base.py:578\u001B[0m, in \u001B[0;36mBaseEstimator._validate_data\u001B[1;34m(self, X, y, reset, validate_separately, **check_params)\u001B[0m\n\u001B[0;32m    572\u001B[0m \u001B[38;5;28;01mif\u001B[39;00m validate_separately:\n\u001B[0;32m    573\u001B[0m     \u001B[38;5;66;03m# We need this because some estimators validate X and y\u001B[39;00m\n\u001B[0;32m    574\u001B[0m     \u001B[38;5;66;03m# separately, and in general, separately calling check_array()\u001B[39;00m\n\u001B[0;32m    575\u001B[0m     \u001B[38;5;66;03m# on X and y isn't equivalent to just calling check_X_y()\u001B[39;00m\n\u001B[0;32m    576\u001B[0m     \u001B[38;5;66;03m# :(\u001B[39;00m\n\u001B[0;32m    577\u001B[0m     check_X_params, check_y_params \u001B[38;5;241m=\u001B[39m validate_separately\n\u001B[1;32m--> 578\u001B[0m     X \u001B[38;5;241m=\u001B[39m check_array(X, \u001B[38;5;241m*\u001B[39m\u001B[38;5;241m*\u001B[39mcheck_X_params)\n\u001B[0;32m    579\u001B[0m     y \u001B[38;5;241m=\u001B[39m check_array(y, \u001B[38;5;241m*\u001B[39m\u001B[38;5;241m*\u001B[39mcheck_y_params)\n\u001B[0;32m    580\u001B[0m \u001B[38;5;28;01melse\u001B[39;00m:\n",
      "File \u001B[1;32mC:\\Skola\\Big_Data\\clothes_size_project\\venv\\lib\\site-packages\\sklearn\\utils\\validation.py:746\u001B[0m, in \u001B[0;36mcheck_array\u001B[1;34m(array, accept_sparse, accept_large_sparse, dtype, order, copy, force_all_finite, ensure_2d, allow_nd, ensure_min_samples, ensure_min_features, estimator)\u001B[0m\n\u001B[0;32m    744\u001B[0m         array \u001B[38;5;241m=\u001B[39m array\u001B[38;5;241m.\u001B[39mastype(dtype, casting\u001B[38;5;241m=\u001B[39m\u001B[38;5;124m\"\u001B[39m\u001B[38;5;124munsafe\u001B[39m\u001B[38;5;124m\"\u001B[39m, copy\u001B[38;5;241m=\u001B[39m\u001B[38;5;28;01mFalse\u001B[39;00m)\n\u001B[0;32m    745\u001B[0m     \u001B[38;5;28;01melse\u001B[39;00m:\n\u001B[1;32m--> 746\u001B[0m         array \u001B[38;5;241m=\u001B[39m \u001B[43mnp\u001B[49m\u001B[38;5;241;43m.\u001B[39;49m\u001B[43masarray\u001B[49m\u001B[43m(\u001B[49m\u001B[43marray\u001B[49m\u001B[43m,\u001B[49m\u001B[43m \u001B[49m\u001B[43morder\u001B[49m\u001B[38;5;241;43m=\u001B[39;49m\u001B[43morder\u001B[49m\u001B[43m,\u001B[49m\u001B[43m \u001B[49m\u001B[43mdtype\u001B[49m\u001B[38;5;241;43m=\u001B[39;49m\u001B[43mdtype\u001B[49m\u001B[43m)\u001B[49m\n\u001B[0;32m    747\u001B[0m \u001B[38;5;28;01mexcept\u001B[39;00m ComplexWarning \u001B[38;5;28;01mas\u001B[39;00m complex_warning:\n\u001B[0;32m    748\u001B[0m     \u001B[38;5;28;01mraise\u001B[39;00m \u001B[38;5;167;01mValueError\u001B[39;00m(\n\u001B[0;32m    749\u001B[0m         \u001B[38;5;124m\"\u001B[39m\u001B[38;5;124mComplex data not supported\u001B[39m\u001B[38;5;130;01m\\n\u001B[39;00m\u001B[38;5;132;01m{}\u001B[39;00m\u001B[38;5;130;01m\\n\u001B[39;00m\u001B[38;5;124m\"\u001B[39m\u001B[38;5;241m.\u001B[39mformat(array)\n\u001B[0;32m    750\u001B[0m     ) \u001B[38;5;28;01mfrom\u001B[39;00m \u001B[38;5;21;01mcomplex_warning\u001B[39;00m\n",
      "File \u001B[1;32mC:\\Skola\\Big_Data\\clothes_size_project\\venv\\lib\\site-packages\\pandas\\core\\generic.py:2064\u001B[0m, in \u001B[0;36mNDFrame.__array__\u001B[1;34m(self, dtype)\u001B[0m\n\u001B[0;32m   2063\u001B[0m \u001B[38;5;28;01mdef\u001B[39;00m \u001B[38;5;21m__array__\u001B[39m(\u001B[38;5;28mself\u001B[39m, dtype: npt\u001B[38;5;241m.\u001B[39mDTypeLike \u001B[38;5;241m|\u001B[39m \u001B[38;5;28;01mNone\u001B[39;00m \u001B[38;5;241m=\u001B[39m \u001B[38;5;28;01mNone\u001B[39;00m) \u001B[38;5;241m-\u001B[39m\u001B[38;5;241m>\u001B[39m np\u001B[38;5;241m.\u001B[39mndarray:\n\u001B[1;32m-> 2064\u001B[0m     \u001B[38;5;28;01mreturn\u001B[39;00m \u001B[43mnp\u001B[49m\u001B[38;5;241;43m.\u001B[39;49m\u001B[43masarray\u001B[49m\u001B[43m(\u001B[49m\u001B[38;5;28;43mself\u001B[39;49m\u001B[38;5;241;43m.\u001B[39;49m\u001B[43m_values\u001B[49m\u001B[43m,\u001B[49m\u001B[43m \u001B[49m\u001B[43mdtype\u001B[49m\u001B[38;5;241;43m=\u001B[39;49m\u001B[43mdtype\u001B[49m\u001B[43m)\u001B[49m\n",
      "\u001B[1;31mValueError\u001B[0m: could not convert string to float: 'xxs'"
     ]
    }
   ],
   "source": [
    "from sklearn.tree import DecisionTreeClassifier\n",
    "\n",
    "y = size_df\n",
    "x = f_tshirt_df\n",
    "\n",
    "model = DecisionTreeClassifier()\n",
    "model.fit(y,x)\n",
    "\n",
    "f_tshirt_df"
   ],
   "metadata": {
    "collapsed": false,
    "pycharm": {
     "name": "#%%\n"
    }
   }
  },
  {
   "cell_type": "code",
   "execution_count": 43,
   "outputs": [],
   "source": [],
   "metadata": {
    "collapsed": false,
    "pycharm": {
     "name": "#%%\n"
    }
   }
  }
 ],
 "metadata": {
  "kernelspec": {
   "display_name": "Python 3",
   "language": "python",
   "name": "python3"
  },
  "language_info": {
   "codemirror_mode": {
    "name": "ipython",
    "version": 2
   },
   "file_extension": ".py",
   "mimetype": "text/x-python",
   "name": "python",
   "nbconvert_exporter": "python",
   "pygments_lexer": "ipython2",
   "version": "2.7.6"
  }
 },
 "nbformat": 4,
 "nbformat_minor": 0
}